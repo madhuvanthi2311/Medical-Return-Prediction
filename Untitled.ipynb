{
 "cells": [
  {
   "cell_type": "code",
   "execution_count": 7,
   "metadata": {},
   "outputs": [],
   "source": [
    "\n",
    "# libraries we will need for this notebook's experiment\n",
    "import pandas as pd\n",
    "import numpy as np\n",
    "from sklearn.metrics import accuracy_score   # an accuracy scoring function from scikit learn\n",
    "from sklearn.model_selection import GridSearchCV\n",
    "transformed_medical_data = pd.read_csv('transformed_diabetes_data.csv')"
   ]
  },
  {
   "cell_type": "code",
   "execution_count": 8,
   "metadata": {
    "collapsed": true
   },
   "outputs": [],
   "source": [
    "\n",
    "# pull out the input feature and target / labels \n",
    "input_data_1 = transformed_medical_data[['gender','age','number_emergency']]\n",
    "labels_1 = transformed_medical_data['readmitted']"
   ]
  },
  {
   "cell_type": "code",
   "execution_count": 9,
   "metadata": {},
   "outputs": [
    {
     "name": "stdout",
     "output_type": "stream",
     "text": [
      "Fitting 5 folds for each of 90 candidates, totalling 450 fits\n"
     ]
    },
    {
     "name": "stderr",
     "output_type": "stream",
     "text": [
      "[Parallel(n_jobs=-1)]: Done  42 tasks      | elapsed:    8.7s\n",
      "[Parallel(n_jobs=-1)]: Done 192 tasks      | elapsed:   25.8s\n",
      "[Parallel(n_jobs=-1)]: Done 442 tasks      | elapsed:   55.4s\n",
      "[Parallel(n_jobs=-1)]: Done 450 out of 450 | elapsed:   56.9s finished\n"
     ]
    },
    {
     "name": "stdout",
     "output_type": "stream",
     "text": [
      "best parameter according to cross-validation param is = 12\n"
     ]
    }
   ],
   "source": [
    "# TODO: import your tree-based algorithm and make a default instance of it\n",
    "from sklearn.ensemble import RandomForestClassifier\n",
    "classifier= RandomForestClassifier()\n",
    "# range of parameters to test with cross-validation\n",
    "parameters = {'max_depth': np.arange(10,20),'n_estimators': np.arange(10,100,10)}\n",
    "\n",
    "# create an instance of the GridSearchCV cross-validator - using our classifier and choice or parameters\n",
    "cross_validator = GridSearchCV(classifier, parameters, cv=5, n_jobs=-1, verbose= 1,scoring=\"accuracy\" )\n",
    "\n",
    "# get the best parameter choice based on cross-validation and print out\n",
    "cross_validator.fit(input_data_1,labels_1)        \n",
    "best_param =  cross_validator.best_estimator_.max_depth     \n",
    "print 'best parameter according to cross-validation param is = ' + str(best_param)"
   ]
  },
  {
   "cell_type": "code",
   "execution_count": 10,
   "metadata": {},
   "outputs": [
    {
     "name": "stdout",
     "output_type": "stream",
     "text": [
      "Our classifier mislabeled 6640 of 15628 points\n"
     ]
    }
   ],
   "source": [
    "# TODO: create an instance of a tree-based classifier from scikit learn\n",
    "# fit our chosen classifier to the dataset\n",
    "cross_validator.best_estimator_.fit(input_data_1, labels_1)                              \n",
    "\n",
    "# print out the number of misclassified points\n",
    "predicted_labels = cross_validator.best_estimator_.predict(input_data_1)\n",
    "acc = len(labels_1) - accuracy_score(labels_1.ravel(), predicted_labels.ravel(), normalize=False)\n",
    "print 'Our classifier mislabeled ' + str(acc) + ' of ' + str(len(labels_1)) + ' points'"
   ]
  },
  {
   "cell_type": "code",
   "execution_count": null,
   "metadata": {
    "collapsed": true
   },
   "outputs": [],
   "source": []
  }
 ],
 "metadata": {
  "kernelspec": {
   "display_name": "Python 2",
   "language": "python",
   "name": "python2"
  },
  "language_info": {
   "codemirror_mode": {
    "name": "ipython",
    "version": 2
   },
   "file_extension": ".py",
   "mimetype": "text/x-python",
   "name": "python",
   "nbconvert_exporter": "python",
   "pygments_lexer": "ipython2",
   "version": "2.7.14"
  }
 },
 "nbformat": 4,
 "nbformat_minor": 2
}
