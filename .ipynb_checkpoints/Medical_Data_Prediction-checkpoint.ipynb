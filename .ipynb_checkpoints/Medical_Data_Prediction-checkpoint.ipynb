{
 "cells": [
  {
   "cell_type": "markdown",
   "metadata": {},
   "source": [
    "The dataset [[1]](#bib_cell) we will look at in this notebook aims to create just this predictive ability.  In particular it contains around 12,000 patient records containing a number of features about each patient, as well as whether or not a patient returned to the hospital within 30 days.\n",
    "Our goal will be to use ML algorithms to try to predict which patients will in fact return within 30 days."
   ]
  },
  {
   "cell_type": "code",
   "execution_count": 1,
   "metadata": {
    "collapsed": true
   },
   "outputs": [],
   "source": [
    "#Importing Python libraries\n",
    "import numpy as np\n",
    "import pandas as pd\n",
    "import seaborn as sns\n",
    "\n",
    "\n",
    "# Reading in the input dataset\n",
    "medical_data = pd.DataFrame(pd.read_csv(\"balanced_cleaned_diabetes_data.csv\"))"
   ]
  },
  {
   "cell_type": "code",
   "execution_count": 2,
   "metadata": {},
   "outputs": [
    {
     "data": {
      "text/html": [
       "<div>\n",
       "<style>\n",
       "    .dataframe thead tr:only-child th {\n",
       "        text-align: right;\n",
       "    }\n",
       "\n",
       "    .dataframe thead th {\n",
       "        text-align: left;\n",
       "    }\n",
       "\n",
       "    .dataframe tbody tr th {\n",
       "        vertical-align: top;\n",
       "    }\n",
       "</style>\n",
       "<table border=\"1\" class=\"dataframe\">\n",
       "  <thead>\n",
       "    <tr style=\"text-align: right;\">\n",
       "      <th></th>\n",
       "      <th>age</th>\n",
       "      <th>gender</th>\n",
       "      <th>number_emergency</th>\n",
       "      <th>readmitted</th>\n",
       "    </tr>\n",
       "  </thead>\n",
       "  <tbody>\n",
       "    <tr>\n",
       "      <th>0</th>\n",
       "      <td>[70-80)</td>\n",
       "      <td>Female</td>\n",
       "      <td>0</td>\n",
       "      <td>NO</td>\n",
       "    </tr>\n",
       "    <tr>\n",
       "      <th>1</th>\n",
       "      <td>[50-60)</td>\n",
       "      <td>Male</td>\n",
       "      <td>0</td>\n",
       "      <td>&gt;30</td>\n",
       "    </tr>\n",
       "    <tr>\n",
       "      <th>2</th>\n",
       "      <td>[60-70)</td>\n",
       "      <td>Male</td>\n",
       "      <td>0</td>\n",
       "      <td>&gt;30</td>\n",
       "    </tr>\n",
       "    <tr>\n",
       "      <th>3</th>\n",
       "      <td>[70-80)</td>\n",
       "      <td>Female</td>\n",
       "      <td>0</td>\n",
       "      <td>&lt;30</td>\n",
       "    </tr>\n",
       "    <tr>\n",
       "      <th>4</th>\n",
       "      <td>[70-80)</td>\n",
       "      <td>Male</td>\n",
       "      <td>0</td>\n",
       "      <td>NO</td>\n",
       "    </tr>\n",
       "  </tbody>\n",
       "</table>\n",
       "</div>"
      ],
      "text/plain": [
       "       age  gender  number_emergency readmitted\n",
       "0  [70-80)  Female                 0         NO\n",
       "1  [50-60)    Male                 0        >30\n",
       "2  [60-70)    Male                 0        >30\n",
       "3  [70-80)  Female                 0        <30\n",
       "4  [70-80)    Male                 0         NO"
      ]
     },
     "execution_count": 2,
     "metadata": {},
     "output_type": "execute_result"
    }
   ],
   "source": [
    "#Looking at the dataset\n",
    "\n",
    "medical_data.head()"
   ]
  },
  {
   "cell_type": "code",
   "execution_count": 3,
   "metadata": {},
   "outputs": [
    {
     "name": "stdout",
     "output_type": "stream",
     "text": [
      "This dataset has 15628 rows and 4 columns\n",
      "The following are the age groups in this sample: \n",
      "\n",
      "70 to 80\n",
      "50 to 60\n",
      "60 to 70\n",
      "0 to 10\n",
      "40 to 50\n",
      "80 to 90\n",
      "90 to 100\n",
      "30 to 40\n",
      "20 to 30\n",
      "10 to 20\n"
     ]
    },
    {
     "data": {
      "text/plain": [
       "23"
      ]
     },
     "execution_count": 3,
     "metadata": {},
     "output_type": "execute_result"
    }
   ],
   "source": [
    "#Exploring the columns of the dataset\n",
    "#Total number of rows and columns of the dataset\n",
    "\n",
    "print(\"This dataset has {} rows and {} columns\".format(medical_data.shape[0], medical_data.shape[1]))\n",
    "\n",
    "#Age\n",
    "import re\n",
    "print('The following are the age groups in this sample: '+ '\\n')\n",
    "for age_group in medical_data['age'].unique():\n",
    "    age_groups = re.findall(r'\\d+', str(age_group))\n",
    "    print('{} to {}'.format(age_groups[0], age_groups[1]))\n",
    "    \n",
    "#Unique number of emergencies\n",
    "\n",
    "medical_data['number_emergency'].nunique()\n",
    "\n",
    "\n",
    "    \n"
   ]
  },
  {
   "cell_type": "markdown",
   "metadata": {},
   "source": [
    "**1.**  The columns here are the input - or 'features' - of the dataset are:\n",
    "\n",
    "**gender** - gender of patient\n",
    "\n",
    "**age** - age of patient, split into 10 year chunks\n",
    "\n",
    "**number_emergency** - Number of emergency visits of the patient in the year preceding the encounter\n",
    "\n",
    "**2.**  The target / labels are:\n",
    "\n",
    "**readmitted** - consists of \"> 30\" (readmitted within 30 days), \"< 30\" (readmitted after 30 days), and NO (no history of readmission)"
   ]
  },
  {
   "cell_type": "code",
   "execution_count": 4,
   "metadata": {
    "collapsed": true
   },
   "outputs": [],
   "source": [
    "#Pre-processing input data\n",
    "\n",
    "#Transforming the age column while preserving ordinality\n",
    "age_groups = {'[0-10)': 1,'[10-20)': 2, '[20-30)':3, '[30-40)': 4, '[40-50)':5, '[50-60)':6,'[60-70)':7 ,'[70-80)':8,'[80-90)':9,'[90-100)':10}\n",
    "\n",
    "medical_data['age'] = medical_data['age'].map(age_groups)\n",
    "\n"
   ]
  },
  {
   "cell_type": "code",
   "execution_count": 5,
   "metadata": {
    "collapsed": true
   },
   "outputs": [],
   "source": [
    "# Converting female, male into binary values\n",
    "\n",
    "medical_data ['gender'] = medical_data['gender'].map({'Female': 0, 'Male': 1})\n",
    "\n",
    "#Converting values of output variables \n",
    "\n",
    "medical_data['readmitted'] = medical_data['readmitted'].map({'>30': 0, 'NO' : 0, '<30': 1})\n",
    "\n",
    "#Now the input medical data has been transformed"
   ]
  },
  {
   "cell_type": "code",
   "execution_count": 6,
   "metadata": {
    "collapsed": true
   },
   "outputs": [],
   "source": [
    "#Fitting a simple logistic regression model\n",
    "\n",
    "input_data_1 = medical_data[['gender','age','number_emergency']]\n",
    "labels_1 = medical_data['readmitted']\n",
    "\n",
    "\n",
    "null_columns=input_data_1.columns[input_data_1.isnull().any()]\n",
    "\n"
   ]
  },
  {
   "cell_type": "code",
   "execution_count": 84,
   "metadata": {},
   "outputs": [
    {
     "data": {
      "text/plain": [
       "0.56968262093678013"
      ]
     },
     "execution_count": 84,
     "metadata": {},
     "output_type": "execute_result"
    }
   ],
   "source": [
    "# create the linear logistic regression classifier and plug it into the previous Python function\n",
    "from sklearn.metrics import accuracy_score   # an accuracy scoring function from scikit learn\n",
    "from sklearn.linear_model import LogisticRegression\n",
    "classifier = LogisticRegression()\n",
    "\n",
    "# fit our chosen classifier to the dataset\n",
    "classifier.fit(input_data_1, labels_1)                              \n",
    "\n",
    "# print out the number of misclassified points\n",
    "predicted_labels = classifier.predict(input_data_1)\n",
    "\n",
    "classifier.score(input_data_1, labels_1)"
   ]
  },
  {
   "cell_type": "markdown",
   "metadata": {},
   "source": [
    "Since the accuracy of the simple logistic regression classifier is very low, can compare the cross validation errors of more complex models on this dataset to figure out the best model to be used"
   ]
  },
  {
   "cell_type": "code",
   "execution_count": 87,
   "metadata": {},
   "outputs": [
    {
     "name": "stdout",
     "output_type": "stream",
     "text": [
      "Tree: 0.280763 (0.113809)\n",
      "RF: 0.267840 (0.100736)\n",
      "LG: 0.217867 (0.114982)\n"
     ]
    },
    {
     "data": {
      "image/png": "[encoded data removed]",
      "text/plain": [
       "<matplotlib.figure.Figure at 0xcf64518>"
      ]
     },
     "metadata": {},
     "output_type": "display_data"
    }
   ],
   "source": [
    "from sklearn import model_selection\n",
    "from sklearn.tree import DecisionTreeClassifier\n",
    "from sklearn.ensemble import RandomForestClassifier\n",
    "from sklearn.model_selection import cross_val_score\n",
    "from sklearn.model_selection import KFold\n",
    "from sklearn.model_selection import GridSearchCV, cross_val_score, StratifiedKFold, learning_curve\n",
    "import matplotlib.pyplot as plt\n",
    "seed = 7\n",
    "models = []\n",
    "models.append(('Tree',  DecisionTreeClassifier()))\n",
    "models.append(('RF', RandomForestClassifier()))\n",
    "models.append(('LG', LogisticRegression()))\n",
    "# evaluate each model in turn\n",
    "results = []\n",
    "names = []\n",
    "for name, model in models:\n",
    "    kfold = model_selection.KFold(n_splits=5, random_state=seed)\n",
    "    cv_results = model_selection.cross_val_score(model, input_data_1, labels_1, cv = kfold)\n",
    "    results.append(cv_results)\n",
    "    names.append(name)\n",
    "    msg = \"%s: %f (%f)\" % (name, cv_results.mean(), cv_results.std())\n",
    "    print(msg)\n",
    "\n",
    "     # Compare Algorithms\n",
    "fig = plt.figure()\n",
    "fig.suptitle('Algorithm Comparison')\n",
    "ax = fig.add_subplot(111)\n",
    "plt.boxplot(results)\n",
    "ax.set_xticklabels(names)\n",
    "plt.show()\n",
    "\n"
   ]
  },
  {
   "cell_type": "raw",
   "metadata": {},
   "source": [
    "Tree seems to be the best model. We can proceed with a tree model for further analysis"
   ]
  },
  {
   "cell_type": "code",
   "execution_count": 89,
   "metadata": {},
   "outputs": [
    {
     "name": "stdout",
     "output_type": "stream",
     "text": [
      "best parameter according to cross-validation param is = 3\n"
     ]
    }
   ],
   "source": [
    "#GridSearchCV for hyperparameter optimization\n",
    "\n",
    "from sklearn.model_selection import train_test_split\n",
    "\n",
    "X_train, X_test, y_train, y_test = train_test_split(input_data_1,labels_1, test_size = 0.2, random_state = 42)\n",
    "\n",
    "classifier = DecisionTreeClassifier()\n",
    "\n",
    "# range of parameters to test with cross-validation\n",
    "parameters = {'max_depth': np.arange(1,10)}\n",
    "\n",
    "# create an instance of the GridSearchCV cross-validator - using our classifier and choice or parameters\n",
    "cross_validator = GridSearchCV(classifier, parameters)\n",
    "\n",
    "# get the best parameter choice based on cross-validation and print out\n",
    "cross_validator.fit(X_train,y_train)        \n",
    "best_param =  cross_validator.best_estimator_.max_depth     \n",
    "print 'best parameter according to cross-validation param is = ' + str(best_param)"
   ]
  },
  {
   "cell_type": "code",
   "execution_count": 94,
   "metadata": {},
   "outputs": [
    {
     "name": "stdout",
     "output_type": "stream",
     "text": [
      "The accuracy of the model on the test set is 0.579014715291\n"
     ]
    }
   ],
   "source": [
    "#Finally getting the accuracy of the optimized model on the test data\n",
    "\n",
    "from sklearn import metrics\n",
    "\n",
    "best_model = cross_validator.best_estimator_\n",
    "\n",
    "y_pred = best_model.predict(X_test)\n",
    "\n",
    "accuracy = metrics.accuracy_score(y_test, y_pred)\n",
    "\n",
    "print(\"The accuracy of the model on the test set is {}\".format(accuracy))"
   ]
  },
  {
   "cell_type": "code",
   "execution_count": null,
   "metadata": {
    "collapsed": true
   },
   "outputs": [],
   "source": []
  }
 ],
 "metadata": {
  "kernelspec": {
   "display_name": "Python 2",
   "language": "python",
   "name": "python2"
  },
  "language_info": {
   "codemirror_mode": {
    "name": "ipython",
    "version": 2
   },
   "file_extension": ".py",
   "mimetype": "text/x-python",
   "name": "python",
   "nbconvert_exporter": "python",
   "pygments_lexer": "ipython2",
   "version": "2.7.14"
  }
 },
 "nbformat": 4,
 "nbformat_minor": 2
}
